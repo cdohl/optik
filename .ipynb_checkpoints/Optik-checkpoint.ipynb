{
 "cells": [
  {
   "cell_type": "markdown",
   "metadata": {},
   "source": [
    "# Optik \n",
    "\n",
    "## 1. Geometrische Optik\n",
    "### 1.1 Einführung\n",
    "| | \n",
    "| --- | --- |\n",
    "| <img src=\"figures/simsketch.png\" style=\"width: 50px\";> | [Huygensches Prinzip](Huygensches%20Prinzip.ipynb) |\n",
    "\n",
    "| | \n",
    "| --- | --- |\n",
    "| <img src=\"figures/simsketch.png\" style=\"width: 50px\";> | [Onlie Raytracer](https://ricktu288.github.io/ray-optics/simulator/) |\n",
    "\n",
    "\n",
    "\n",
    "\n",
    "## 2 Matrixmethoden der paraxialen Optik\n",
    "## 3. Optische Instrumente und Abbildungsfehler\n",
    "## 4. Wellengleichung\n",
    "## 5. Interferenz\n",
    "### 5.1 Interferenz von Wellen\n",
    "### 5.2 Lichtinterferenz\n",
    "### 5.3 Optische Interferometrie\n",
    "## 6. Kohärenz & Holografie\n",
    "## 7. Polarisation\n",
    "### 7.1 Matrixbeschreibung der Polarisation\n",
    "### 7.2 Erzeugung von polarisiertem Licht\n",
    "## 8. Beugung\n",
    "### 8.1 Einführung\n",
    "### 8.2 Fresnel-Beugung\n",
    "### 8.3 Fourieroptik\n",
    "## 9. Reflektion und Interferenz on Oberflächen\n",
    "### 9.1 Interferenz an Mehrfachschichten\n",
    "### 9.2 Fresnelsche Gleichungen\n",
    "## 10. Laser\n",
    "### 10.1 Grundlagen\n",
    "### 10.2 Eigenschaften von Laserstrahlen\n",
    "## 11. Anwendungen und Faseroptik\n",
    "### 11.1 Laseranwendungen\n",
    "### 11.2 Faseroptik\n",
    "## 12. Nichtlineare Optik und Lichtmodulation"
   ]
  },
  {
   "cell_type": "code",
   "execution_count": null,
   "metadata": {},
   "outputs": [],
   "source": []
  }
 ],
 "metadata": {
  "kernelspec": {
   "display_name": "Python [default]",
   "language": "python",
   "name": "python2"
  },
  "language_info": {
   "codemirror_mode": {
    "name": "ipython",
    "version": 2
   },
   "file_extension": ".py",
   "mimetype": "text/x-python",
   "name": "python",
   "nbconvert_exporter": "python",
   "pygments_lexer": "ipython2",
   "version": "2.7.14"
  }
 },
 "nbformat": 4,
 "nbformat_minor": 2
}

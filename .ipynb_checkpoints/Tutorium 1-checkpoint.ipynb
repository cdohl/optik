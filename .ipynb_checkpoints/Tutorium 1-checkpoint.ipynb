{
 "cells": [
  {
   "cell_type": "markdown",
   "metadata": {},
   "source": [
    "# Optik Vorlesung (Claus-Dieter Ohl)\n",
    "\n",
    "## Tutorium 1\n",
    "\n",
    "<b>Bitte bringen Sie die Lösungen zu den 3 Aufgaben zur Übung am 4.11.2020 mit.</b>\n",
    "\n",
    "\n",
    "### 1. Fermatsches Prinzip & Fata Morgana\n",
    "\n",
    "Die Reflexion von einem Huygenschen Lichtbündel an einem ebenen Spiegel haben wir in der Vorlesung mit dem zeitverstetzen Aussenden von Huygenschen Elementarwellen beschrieben. Wir folgerten daraus das Reflexionsgesetz $\\epsilon = \\epsilon'$. Leiten Sie dieses Reflexionsgesetz nun aus dem Fermatschen Prinzip her. Führen Sie dazu geeignete Punkte vor und nach der Reflexion am Spiegel ein. Benutzen Sie ferner eine Variable, die den optischen Weg zwischen diesen beiden Punkten beschreibt und maximieren Sie den optischen Weg.\n",
    "\n",
    "Bei der Herleitung benutzten Sie bereits die Annahme, dass der kürzeste optische Weg in eimen homogenen Weg die Gerade ist. In inhomgenen Medien ist dem nicht so. Lesen Sie sich die Bildentstehung bei einer Fata Morgana durch. Versuchen Sie ein eigenes Küchenexperiment, das zeigt, dass Licht in einem inhomogenen Medium nicht entlang einer Geraden verläuft. Wenn möglich, beschreiben Sie den Versuchsaufbau und machen Sie ein Bild Ihrer Fata Morgana.  \n",
    "\n",
    "### 2. Raytracing\n",
    "\n",
    "Versuchen Sie nur mit Spiegeln aus einer divergenten Lichtquelle ein paralleles Strahlenbündel (ebene Welle) abzubilden. Dazu benutzen Sie das frei zugängliche [Strahlverfolgungsprogramm](https://ricktu288.github.io/ray-optics/simulator/) oder den [Java Raytracer] (https://arachnoid.com/OpticalRayTracer/). \n",
    "\n",
    "### 3. Huygen'sche Prinzip\n",
    "Verfolgen Sie einmal grafisch mit Hilfe des Huygenschen Prinzips die Wellenfront die von einem Strich mit begrenzter Länge ausgesendet wird. In welche Richtung werden ebene Wellen und in welche Richtung Kugelwellen abgestrahlt? Benutzen Sie das [Programm](Huygensches Prinzip-Simple.ipynb) um Ihre Zeichung zu überprüfen. Welchen Einfluß hat der Parameter \"No Sources\" auf die Wellenform? Welche Gleichung wird eigentlich in dem Programm gelöst?\n"
   ]
  },
  {
   "cell_type": "code",
   "execution_count": null,
   "metadata": {},
   "outputs": [],
   "source": []
  }
 ],
 "metadata": {
  "kernelspec": {
   "display_name": "Python [default]",
   "language": "python",
   "name": "python2"
  },
  "language_info": {
   "codemirror_mode": {
    "name": "ipython",
    "version": 2
   },
   "file_extension": ".py",
   "mimetype": "text/x-python",
   "name": "python",
   "nbconvert_exporter": "python",
   "pygments_lexer": "ipython2",
   "version": "2.7.14"
  }
 },
 "nbformat": 4,
 "nbformat_minor": 2
}

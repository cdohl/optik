{
 "cells": [
  {
   "cell_type": "markdown",
   "metadata": {},
   "source": [
    "# Angewandte Optik Vorlesung WiS 22/23\n",
    "\n",
    "\n",
    "## Tutorium 1\n",
    "\n",
    "### Claus-Dieter Ohl\n",
    "\n",
    "<b>Aufgaben für den 14.10.2022</b>\n",
    "\n",
    "### 1. Raytracing\n",
    "\n",
    "Versuchen Sie die Lichtausbreitung eines Kollimators für Leuchtdioden mit einem  [Strahlverfolgungsprogramm](https://ricktu288.github.io/ray-optics/simulator/) oder dem [Java Raytracer] (https://arachnoid.com/OpticalRayTracer/) zu simulieren. Beispiele von Kollimatoren finden Sie leicht im Netz, z.B. [hier](https://www.auer-lighting.com/de/produkte/linsen/kollimatoren) oder [hier](http://ioda-it.com/en/n-series-collimator-led-lens/?doing_wp_cron=1665546502.4545860290527343750000)\n",
    "\n",
    "### 2. Huygen'sche Prinzip\n",
    "\n",
    "Verfolgen Sie einmal grafisch mit Hilfe des Huygenschen Prinzips die Wellenfront die von einem Strich mit begrenzter Länge ausgesendet wird. In welche Richtung werden ebene Wellen und in welche Richtung Kugelwellen abgestrahlt? Benutzen Sie das [Programm](Huygensches Prinzip-Simple.ipynb) um Ihre Zeichung zu überprüfen. Welchen Einfluß hat der Parameter \"No Sources\" auf die Wellenform? Welche Gleichung wird eigentlich in dem Programm gelöst? Können Sie das Programm so ändern, dass die Quellen auf einem Halbkreis angeordnet werden?\n",
    "\n"
   ]
  }
 ],
 "metadata": {
  "kernelspec": {
   "display_name": "Python 3 (ipykernel)",
   "language": "python",
   "name": "python3"
  },
  "language_info": {
   "codemirror_mode": {
    "name": "ipython",
    "version": 3
   },
   "file_extension": ".py",
   "mimetype": "text/x-python",
   "name": "python",
   "nbconvert_exporter": "python",
   "pygments_lexer": "ipython3",
   "version": "3.9.12"
  }
 },
 "nbformat": 4,
 "nbformat_minor": 2
}

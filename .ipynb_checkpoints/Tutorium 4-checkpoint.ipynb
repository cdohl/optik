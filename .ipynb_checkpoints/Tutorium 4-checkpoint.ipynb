{
 "cells": [
  {
   "cell_type": "markdown",
   "metadata": {},
   "source": [
    "# Optik Vorlesung (Claus-Dieter Ohl)\n",
    "\n",
    "\n",
    "Bitte bereiten Sie das Tutorium bis zur Übung am 16.12.2020 und schicken Sie mir Ihren Übungszettel per Email.\n",
    "\n",
    "\n",
    "## Tutorium 4\n",
    "\n",
    "### 1. Bauen Sie eine Lochkamera\n",
    "\n",
    "Die Funktionsweise einer Lochkamera wurde in der Vorlesung besprochen. Aus Erfahrung sollte das Loch sehr klein und rund sein. Es kann beispielsweise einen Durchmesser von $d=0.5\\,$mm haben. Die Bildweite sollte $s'=20-25\\,$cm betragen. Runde Löcher können Sie in einer Aluminiumfolie mit einer Nadel machen. Als Beobachtungsfeld eignet sich Transparentpapier oder auch einfach Papier mit einem dünnen Fettfilm. \n",
    "\n",
    "### 2. Differenzfrequenzmessung\n",
    "\n",
    "Die beiden Spiegel eines Lasers bilden ein Farby Perot. Nehmen wir an, dass die Spiegel ein Reflektivität von $r=99.9\\,$% und eine Resonatorlänge von 30cm. Das aktive Medium im Laser kann nur zwei Moden $k_1$ und $k_2$ verstärken, die Wellenlänge für $k_1=632.8\\,$nm.\n",
    "\n",
    "a) Finden Sie einen geeigneten Spiegel für Laserresonatoren/Farby Perots (z.B. bei Thorlabs, Newport, Edmund Scientific), nennen Sie Produktnummer und Preis.\n",
    "\n",
    "b) Plotten Sie die Transmission mit einem geeigneten Software (Python, Matlab/Octave etc.). Wie groß ist der freie Spektralbereich, und die Finesse?\n",
    "\n",
    "c) Sie registrieren am Ausgang die Überlagerung der beiden Moden $k_1$ und $k_2$ mit einer Photodiode. Diese kann nur die Intensitätsschwankungen messen. Wie hoch muss die Bandbreite der Photodiode sein, dass Sie das Differenzsignal mit einem Oszilloskop detektieren können. Ist das machbar?\n",
    "\n",
    "\n",
    "\n"
   ]
  },
  {
   "cell_type": "code",
   "execution_count": null,
   "metadata": {},
   "outputs": [],
   "source": []
  }
 ],
 "metadata": {
  "kernelspec": {
   "display_name": "Python [conda env:mypython3]",
   "language": "python",
   "name": "conda-env-mypython3-py"
  },
  "language_info": {
   "codemirror_mode": {
    "name": "ipython",
    "version": 3
   },
   "file_extension": ".py",
   "mimetype": "text/x-python",
   "name": "python",
   "nbconvert_exporter": "python",
   "pygments_lexer": "ipython3",
   "version": "3.7.3"
  }
 },
 "nbformat": 4,
 "nbformat_minor": 2
}

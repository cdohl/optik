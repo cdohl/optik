{
 "cells": [
  {
   "cell_type": "markdown",
   "metadata": {},
   "source": [
    "# Optik Vorlesung (Claus-Dieter Ohl)\n",
    "\n",
    "## Tutorium 5\n",
    "\n",
    "Bitte geben Sie die Lösungen zu den 3 Aufgaben bis zum Ende der Vorlesung am 27.1.2020 ab.\n",
    "\n",
    "### 1. Digitales Hologram\n",
    "\n",
    "Schreiben Sie ein Programm, das ein digitales Hologram eines beliebigen platonischen Körpers in einem wählbaren Abstand berechnet. Schicken Sie uns das Hologram als PNG Datei in der Auflösung 1920 x 1080 vor der Übung zu.\n",
    "\n",
    "\n",
    "### 2. Umwandlung Rasterbild in ein Graustufenbild\n",
    "\n",
    "Nehmen Sie ein Bild mit hoher Auflösung aus der Zeitung auf, so dass die Rasterung (\"Dithering\") sichtbar ist. Wenden Sie nun einen geeigneten Fourierfilter an, der das Bild in ein Graustufenbild überführt. Beschreiben Sie das Programm und die Wirkungsweise. Sie können dazu das Notebook [```Fourier Filtering.ipynb```](Fourier%20Filtering.ipynb) als Vorlage benutzen.\n",
    "\n",
    "\n",
    "### 3. Fouriertransformation einer Linse\n",
    "\n",
    "In der Vorlesung wurde gezeigt, dass die Abbildungseigenschaften einer Linse einer Fouriertransformation entsprechen. Dazu haben wir gezeigt, dass die $u,v$ Koordinaten der Abbildungsgleichung für Ebene Wellen unter Winkeln $\\alpha$ und $\\beta$ sind. Wir können das auch über die Fresnel Näherung berechnen:\n",
    "\n",
    "a) Beschreiben Sie die Linse als ein Phasenobjekt mit Brechungsindex $n$ und Krümmungsradien $r_1$ und $r_2$ am Ort $z=0$. Die $z$-Achse ist die optische Achse. Berechnen Sie die Linse als Phasenfunktion $\\tau(x,y)$. Es ist hilfreich eine Koordinate $\\rho=\\sqrt{x^2+y^2}$ einzuführen.\n",
    "\n",
    "b) Zeigen Sie nun mit Hilfe der Fresneläherung, dass eine Eingangsfeldverteilung mit $E_0(x,y)\\,\\tau(x,y)$ im hinteren Brennpunkt der Linse bist auf eine positionsabhängige Phase die einer Fouriertranformation von $E_0(x,y)$ entspricht.\n"
   ]
  },
  {
   "cell_type": "code",
   "execution_count": null,
   "metadata": {},
   "outputs": [],
   "source": []
  }
 ],
 "metadata": {
  "kernelspec": {
   "display_name": "Python [conda env:mypython3]",
   "language": "python",
   "name": "conda-env-mypython3-py"
  },
  "language_info": {
   "codemirror_mode": {
    "name": "ipython",
    "version": 3
   },
   "file_extension": ".py",
   "mimetype": "text/x-python",
   "name": "python",
   "nbconvert_exporter": "python",
   "pygments_lexer": "ipython3",
   "version": "3.7.3"
  }
 },
 "nbformat": 4,
 "nbformat_minor": 2
}

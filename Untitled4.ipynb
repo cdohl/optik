{
 "cells": [
  {
   "cell_type": "code",
   "execution_count": null,
   "id": "b0fbfa8c",
   "metadata": {},
   "outputs": [],
   "source": [
    "from pymodbus.client.s import ModbusTcpClient\n",
    "\n",
    "client = ModbusTcpClient('192.168.178.140',port=502,timeout=40000)\n",
    "connection = client.connect()\n",
    "print(connection)\n",
    "client.read_holding_registers(30000,15,slave=1)\n",
    "client.close()"
   ]
  }
 ],
 "metadata": {
  "kernelspec": {
   "display_name": "Python 3 (ipykernel)",
   "language": "python",
   "name": "python3"
  },
  "language_info": {
   "codemirror_mode": {
    "name": "ipython",
    "version": 3
   },
   "file_extension": ".py",
   "mimetype": "text/x-python",
   "name": "python",
   "nbconvert_exporter": "python",
   "pygments_lexer": "ipython3",
   "version": "3.9.12"
  }
 },
 "nbformat": 4,
 "nbformat_minor": 5
}

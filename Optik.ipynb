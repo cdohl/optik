{
 "cells": [
  {
   "cell_type": "markdown",
   "metadata": {},
   "source": [
    "# Optik \n",
    "\n",
    "## 1. Geometrische Optik\n",
    "### [1.1 Einführung](1.ipynb)\n",
    "\n",
    "|     |     | \n",
    "| --- | --- |\n",
    "| <img src=\"figures/simsketch.png\" style=\"width: 50px\"> | [Huygensches Prinzip](Huygensches%20Prinzip-Simple.ipynb) |\n",
    "\n",
    "||| \n",
    "| --- | --- |\n",
    "| <img src=\"figures/simsketch.png\" style=\"width: 50px\"> | [Online Raytracer](https://ricktu288.github.io/ray-optics/simulator/) |\n",
    "\n",
    "\n",
    "### [Tutorium 1](Tutorium%201.ipynb)\n",
    "\n",
    "### [1.2 Dünne Linsen](1.2.ipynb)\n",
    "\n",
    "### [Tutorium 2](Tutorium%202.ipynb)\n",
    "\n",
    "\n",
    "## [2. Matrixmethoden der paraxialen Optik](2.ipynb)\n",
    "## [3. Das Auge](3.ipynb)\n",
    "## [4. Abbildungsfehler](4.ipynb)\n",
    "\n",
    "### [Tutorium 3](Tutorium%203.ipynb)\n",
    "\n",
    "## [5. Optische Instrumente](5.ipynb)\n",
    "## 6. Wellengleichung\n",
    "## 7. Interferenz\n",
    "### 7.1 Interferenz von Wellen\n",
    "### 7.2 Lichtinterferenz\n",
    "### 7.3 Optische Interferometrie\n",
    "## 8. Kohärenz & Holografie\n",
    "## 9. Polarisation\n",
    "### 9.1 Matrixbeschreibung der Polarisation\n",
    "### 9.2 Erzeugung von polarisiertem Licht\n",
    "## 10. Beugung\n",
    "### 10.1 Einführung\n",
    "### 10.2 Fresnel-Beugung\n",
    "### 10.3 Fourieroptik\n",
    "## 11. Reflektion und Interferenz on Oberflächen\n",
    "### 11.1 Interferenz an Mehrfachschichten\n",
    "### 11.2 Fresnelsche Gleichungen\n",
    "## 12. Laser\n",
    "### 12.1 Grundlagen\n",
    "### 12.2 Eigenschaften von Laserstrahlen\n",
    "## 13. Anwendungen und Faseroptik\n",
    "### 13.1 Laseranwendungen\n",
    "### 13.2 Faseroptik\n",
    "## 14. Nichtlineare Optik und Lichtmodulation"
   ]
  },
  {
   "cell_type": "code",
   "execution_count": null,
   "metadata": {},
   "outputs": [],
   "source": []
  }
 ],
 "metadata": {
  "kernelspec": {
   "display_name": "Python 3",
   "language": "python",
   "name": "python3"
  },
  "language_info": {
   "codemirror_mode": {
    "name": "ipython",
    "version": 3
   },
   "file_extension": ".py",
   "mimetype": "text/x-python",
   "name": "python",
   "nbconvert_exporter": "python",
   "pygments_lexer": "ipython3",
   "version": "3.7.3"
  }
 },
 "nbformat": 4,
 "nbformat_minor": 2
}

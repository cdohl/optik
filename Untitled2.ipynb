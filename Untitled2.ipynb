{
 "cells": [
  {
   "cell_type": "code",
   "execution_count": null,
   "id": "743c0ba1",
   "metadata": {},
   "outputs": [],
   "source": [
    "import huawei_solar "
   ]
  },
  {
   "cell_type": "code",
   "execution_count": null,
   "id": "6b56d04d",
   "metadata": {},
   "outputs": [],
   "source": [
    "bridge = await HuaweiSolarBridge.create(host=\"192.168.200.1\", port=6607)\n",
    "print(await bridge.update())"
   ]
  },
  {
   "cell_type": "code",
   "execution_count": null,
   "id": "8fc4ac6b",
   "metadata": {},
   "outputs": [],
   "source": [
    "from pymodbus.client.async import AsyncioModbusSerialClient\n",
    "#, ReconnectingAsyncioModbusTcpClient, init_tcp_client"
   ]
  },
  {
   "cell_type": "code",
   "execution_count": null,
   "id": "05de8072",
   "metadata": {},
   "outputs": [],
   "source": [
    "from pymodbus.client import AsyncioModbusSerialClient"
   ]
  },
  {
   "cell_type": "code",
   "execution_count": null,
   "id": "5da859a7",
   "metadata": {},
   "outputs": [],
   "source": [
    "from pymodbus.version import Version"
   ]
  },
  {
   "cell_type": "code",
   "execution_count": null,
   "id": "ca8d6869",
   "metadata": {},
   "outputs": [],
   "source": [
    "from pymodbus.constants import Defaults"
   ]
  },
  {
   "cell_type": "code",
   "execution_count": null,
   "id": "0bf03a20",
   "metadata": {},
   "outputs": [],
   "source": [
    "import pymodbus as pymd\n",
    "print(pymd.__version__)"
   ]
  },
  {
   "cell_type": "code",
   "execution_count": null,
   "id": "c9ccf4de",
   "metadata": {},
   "outputs": [],
   "source": [
    "from pymodbus.client import ModbusTcpClient\n",
    "\n",
    "client = ModbusTcpClient('192.168.178.140',port=502,timeout=40000)\n",
    "connection = client.connect()\n",
    "print(connection)\n",
    "client.read_holding_registers(30000,15,slave=1)\n",
    "client.close()"
   ]
  },
  {
   "cell_type": "code",
   "execution_count": null,
   "id": "61b93133",
   "metadata": {},
   "outputs": [],
   "source": [
    "from pymodbus.client import ModbusTcpClient\n",
    "client = ModbusTcpClient('192.168.178.140',port=502,timeout=40000)\n",
    "connection = client.connect()\n",
    "print(connection)\n",
    "#client.write_coil(30000, False)\n",
    "result = client.read_coils(30000,15,slave=1)\n",
    "client.close()"
   ]
  },
  {
   "cell_type": "code",
   "execution_count": null,
   "id": "2574a1a4",
   "metadata": {},
   "outputs": [],
   "source": [
    "from pymodbus.client.sync"
   ]
  }
 ],
 "metadata": {
  "kernelspec": {
   "display_name": "Python 3 (ipykernel)",
   "language": "python",
   "name": "python3"
  },
  "language_info": {
   "codemirror_mode": {
    "name": "ipython",
    "version": 3
   },
   "file_extension": ".py",
   "mimetype": "text/x-python",
   "name": "python",
   "nbconvert_exporter": "python",
   "pygments_lexer": "ipython3",
   "version": "3.9.12"
  }
 },
 "nbformat": 4,
 "nbformat_minor": 5
}

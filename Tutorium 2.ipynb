{
 "cells": [
  {
   "cell_type": "markdown",
   "metadata": {},
   "source": [
    "# Optik Vorlesung (Claus-Dieter Ohl/Fabian Reuter)\n",
    "\n",
    "## Tutorium 2\n",
    "\n",
    "<b>Bitte geben Sie die Lösungen zu den 2 Aufgaben vor der Übung am 8.11.2010 ab.</b>\n",
    "\n",
    "\n",
    "### 1. Optik Zeichnung\n",
    "\n",
    "Ein kleines Objekt ist 20cm von der ersten Linse eines dreilinsigen Systems entfernt, das die Bildbrennweiten 10cm, 15cm und 20cm aufweist. Der Abstand zwischen den ersten beiden Linsen ist 30cm, der zwischen den letzten beiden 20cm. Berechnen Sie die endgültige Bildlage relativ zur Position der letzten Linse sowie den Abbildungsmaßstab, wenn:\n",
    "\n",
    "  1. alle drei Linsen Positivlinsen sind,\n",
    "  2. die mittlere Linse eine Negativlinse ist,\n",
    "  3. die erste und letzte Linse Negativlinsen sind. \n",
    "\n",
    "Zeichnen Sie für jeden der Fälle ein Strahlendiagramm. \n",
    "\n",
    "### 2. Raytracing\n",
    "\n",
    "Entwerfen Sie ein optisches System, das eine Vergrößerung von $\\beta=-2$ hat bei eine, Objektabstand von 5cm. Nach der Berechung nutzen Sie das [Strahlverfolgungsprogramm](https://ricktu288.github.io/ray-optics/simulator/) zur Darstellung des Strahlenganges. An welcher Stelle ist es angebracht eine Blende einzubauen?\n",
    "\n"
   ]
  }
 ],
 "metadata": {
  "kernelspec": {
   "display_name": "Python [conda env:anaconda2]",
   "language": "python",
   "name": "conda-env-anaconda2-py"
  },
  "language_info": {
   "codemirror_mode": {
    "name": "ipython",
    "version": 2
   },
   "file_extension": ".py",
   "mimetype": "text/x-python",
   "name": "python",
   "nbconvert_exporter": "python",
   "pygments_lexer": "ipython2",
   "version": "2.7.14"
  }
 },
 "nbformat": 4,
 "nbformat_minor": 2
}

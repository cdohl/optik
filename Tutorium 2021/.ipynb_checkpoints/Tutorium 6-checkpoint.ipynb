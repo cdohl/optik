{
 "cells": [
  {
   "cell_type": "markdown",
   "metadata": {},
   "source": [
    "# Optik Vorlesung (Claus-Dieter Ohl/Fabian Reuter)\n",
    "\n",
    "## Tutorium 6\n",
    "\n",
    "Bitte geben Sie die Lösungen bis zum Ende der Vorlesung am 31.1.2020 ab.\n",
    "\n",
    "### 1. Gauß Mode\n",
    "\n",
    "Zeigen Sie wie gut die Mode des HeNe Lasers in der Vorlesung dem einer TEM$_{00}$ Mode entspricht. Dazu haben Sie ein Bild mit Ihrem Handy gemacht. \n",
    "\n",
    "1. Plotten Sie die Intensitätsverteilung und vergleichen Sie diese mit der Lösung im Skript. \n",
    "2. Schätzen Sie die Divergenz $\\theta$ und die Strahltaillie $w_0$ des Strahles ab.\n",
    "\n",
    "### 2. Modellieren Sie ein 4-Niveau Laser System\n",
    "\n",
    "Beim 4 Niveau Laser System haben die Niveaus die Energien $E_0<E_1<E_2<E_3$ mit den entsprechenden Populationen $N_0, N_1, N_2,$ und $N_3$. Nehmen Sie an, dass das Pump Niveaus $N_3$ und das untere Laser Niveau $N_1$ sehr kurze Lebensdauern haben und somit in der Modellierung sie annehmen können, dass $N_3\\approx N_1\\approx 0$.\n",
    "\n",
    "### 3. Spektrometer\n",
    "\n",
    "Informieren Sie sich über die Funktionsweise eines Gitterspektrometers und bauen Sie ein solches mit dem Bausatz. Messen Sie mindestens 3 Spektren, plotten Sie diese und identifizieren Sie die Wellenlänge der Linien."
   ]
  }
 ],
 "metadata": {
  "kernelspec": {
   "display_name": "Python 3 (ipykernel)",
   "language": "python",
   "name": "python3"
  },
  "language_info": {
   "codemirror_mode": {
    "name": "ipython",
    "version": 3
   },
   "file_extension": ".py",
   "mimetype": "text/x-python",
   "name": "python",
   "nbconvert_exporter": "python",
   "pygments_lexer": "ipython3",
   "version": "3.9.12"
  }
 },
 "nbformat": 4,
 "nbformat_minor": 2
}

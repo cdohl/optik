{
 "cells": [
  {
   "cell_type": "markdown",
   "metadata": {},
   "source": [
    "# Applied Optics (Claus-Dieter Ohl)\n",
    "### Hand in by 26th of November 2021\n",
    "\n",
    "## Tutorial Sheet 3\n",
    "\n",
    "\n",
    "### 1. Build a pin hole camera\n",
    "\n",
    "The working principle of the pin hole camera has been discussed in the lecture. From experience, the pin hole should be round and small. For example it could have a diameter of 0.5mm or less. The image distance should be $s'=20-25\\,$cm. Circular holes can be obtained in aluminium foil and pin. The field for observation may be obtained with a tracing paper or simply with copy paper and a thin film of oil.\n",
    "\n",
    "### 2. Intereference pattern of two inclined waves\n",
    "\n",
    "Calculate the interference pattern of two plane waves which propagate under an angle of $2\\,\\Theta$ between each other and the wave vectors $\\vec{k_1}$ and $\\vec{k_2}$. Write down the intensity as a function of two perpendicular wave vectors$\\vec{k_\\parallel}$ und $\\vec{k_\\perp}$. Check your calculation by calculatin the limit cases  $\\vec{k_1}\\parallel\\vec{k_2}$ and $\\vec{k_1}\\perp\\vec{k_2}$ for check for plausibility.\n",
    "\n",
    "\n",
    "### 3. Interference pattern from oil films\n",
    "\n",
    "I will judge and prize the most beautiful interference pattern of an oil film. Play with kind of surface, angle of incidence and kind of and size of the light source.\n",
    "\n"
   ]
  }
 ],
 "metadata": {
  "kernelspec": {
   "display_name": "Python 3 (ipykernel)",
   "language": "python",
   "name": "python3"
  },
  "language_info": {
   "codemirror_mode": {
    "name": "ipython",
    "version": 3
   },
   "file_extension": ".py",
   "mimetype": "text/x-python",
   "name": "python",
   "nbconvert_exporter": "python",
   "pygments_lexer": "ipython3",
   "version": "3.9.12"
  }
 },
 "nbformat": 4,
 "nbformat_minor": 2
}

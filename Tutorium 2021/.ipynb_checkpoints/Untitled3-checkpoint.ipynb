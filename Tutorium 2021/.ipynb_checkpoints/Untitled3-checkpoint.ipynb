{
 "cells": [
  {
   "cell_type": "markdown",
   "id": "2a9b81d0",
   "metadata": {},
   "source": [
    "# Angewandte Optik  (Claus-Dieter Ohl)\n",
    "\n",
    "## Tutorium 3 für den 9.12.2022\n",
    "\n",
    "### 1. Modellieren Sie ein 4-Niveau Laser System\n",
    "\n",
    "Beim 4 Niveau Laser System haben die Niveaus die Energien $E_0<E_1<E_2<E_3$ mit den entsprechenden Populationen $N_0, N_1, N_2,$ und $N_3$. Nehmen Sie an, dass das Pump Niveaus $N_3$ und das untere Laser Niveau $N_1$ sehr kurze Lebensdauern haben und somit in der Modellierung sie annehmen können, dass $N_3\\approx N_1\\approx 0$ und somit $N=N_0+N_2$. Der Term $+W N_1 Q$ in der Materialgleichung des 3 Nivaue Lasers fällt heraus.\n",
    "\n",
    "Wenn sie $q=w Q/\\gamma$, $n=W N_2/\\gamma$, $p=W W_{02} N / \\gamma^2$, $b=(W_{02}+W_{20})\\gamma$ und die zeitliche Ableitung wie beim 3 Niveau Laser skalieren erhalten Sie als Ergebnis:\n",
    "\n",
    "\\begin{eqnarray*}\n",
    "\\dot{q}&=&-q +n q\\\\\n",
    "\\dot{n}&=&p - b n - n q\\quad .\n",
    "\\end{eqnarray*}\n",
    "\n",
    "\n",
    "\n",
    "### 2. Interferenz zweier sich schräg überlagender Wellen. \n",
    "\n",
    "Vervollständigen Sie die Herleitung des Interferenzgebietes zweier schräg einlaufender Wellen wie sie in Kapitel 6.3 Zweistrahlinterferenz/Doppelspalt gezeichnet sind. Die Wellen treffen unter dem Winkel $2\\,\\Theta$ aufeinander auf und ihre Wellenvektoren sind $\\vec{k_1}$ und $\\vec{k_2}$. Schreiben Sie das Intensitätsmuster als Funktion der zweier zueinander senkrechter Wellenvektoren $\\vec{k_\\parallel}$ und $\\vec{k_\\perp}$. Überfprüfen Sie Ihr Ergebnis durch Berechnung der Grenzfälle $\\vec{k_1}\\parallel\\vec{k_2}$ und $\\vec{k_1}\\perp\\vec{k_2}$ und deren Plausibilität.\n"
   ]
  },
  {
   "cell_type": "code",
   "execution_count": null,
   "id": "2086ab16",
   "metadata": {},
   "outputs": [],
   "source": []
  }
 ],
 "metadata": {
  "kernelspec": {
   "display_name": "Python 3 (ipykernel)",
   "language": "python",
   "name": "python3"
  },
  "language_info": {
   "codemirror_mode": {
    "name": "ipython",
    "version": 3
   },
   "file_extension": ".py",
   "mimetype": "text/x-python",
   "name": "python",
   "nbconvert_exporter": "python",
   "pygments_lexer": "ipython3",
   "version": "3.9.12"
  }
 },
 "nbformat": 4,
 "nbformat_minor": 5
}

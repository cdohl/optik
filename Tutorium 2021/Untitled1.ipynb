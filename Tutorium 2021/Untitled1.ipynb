{
 "cells": [
  {
   "cell_type": "code",
   "execution_count": 3,
   "id": "a7169891",
   "metadata": {},
   "outputs": [
    {
     "name": "stdout",
     "output_type": "stream",
     "text": [
      "Requirement already satisfied: nest_asyncio in /Users/cdohl/opt/anaconda3/lib/python3.9/site-packages (1.5.5)\r\n"
     ]
    }
   ],
   "source": [
    "!pip install nest_asyncio\n",
    "import nest_asyncio\n",
    "nest_asyncio.apply()"
   ]
  },
  {
   "cell_type": "code",
   "execution_count": 20,
   "id": "396d5d05",
   "metadata": {
    "scrolled": false
   },
   "outputs": [],
   "source": [
    "from pyModbusTCP.client import ModbusClient\n",
    "c = ModbusClient(host=\"192.168.178.140\", port=502, unit_id=1, auto_open=True)\n"
   ]
  },
  {
   "cell_type": "code",
   "execution_count": 19,
   "id": "1579f9cd",
   "metadata": {},
   "outputs": [
    {
     "data": {
      "text/plain": [
       "ModbusClient(host='192.168.178.140', port=502, unit_id=1, timeout=30.00, debug=False, auto_open=False, auto_close=False)"
      ]
     },
     "execution_count": 19,
     "metadata": {},
     "output_type": "execute_result"
    }
   ],
   "source": [
    "c"
   ]
  },
  {
   "cell_type": "code",
   "execution_count": 21,
   "id": "8c640adf",
   "metadata": {},
   "outputs": [],
   "source": [
    "regs = c.read_holding_registers(32016, 1)"
   ]
  },
  {
   "cell_type": "code",
   "execution_count": 7,
   "id": "cc6b7994",
   "metadata": {},
   "outputs": [],
   "source": [
    "\n"
   ]
  },
  {
   "cell_type": "code",
   "execution_count": null,
   "id": "b7082589",
   "metadata": {},
   "outputs": [],
   "source": []
  }
 ],
 "metadata": {
  "kernelspec": {
   "display_name": "Python 3 (ipykernel)",
   "language": "python",
   "name": "python3"
  },
  "language_info": {
   "codemirror_mode": {
    "name": "ipython",
    "version": 3
   },
   "file_extension": ".py",
   "mimetype": "text/x-python",
   "name": "python",
   "nbconvert_exporter": "python",
   "pygments_lexer": "ipython3",
   "version": "3.9.12"
  }
 },
 "nbformat": 4,
 "nbformat_minor": 5
}

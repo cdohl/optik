{
 "cells": [
  {
   "cell_type": "markdown",
   "metadata": {},
   "source": [
    "# Optik Vorlesung (Claus-Dieter Ohl)\n",
    "\n",
    "## Tutorium 2\n",
    "\n",
    "<b>Bitte schicken Sie mir die Lösungen vor dem 4.11.2022 per Email an claus-dieter.ohl@ovgu.de zu.</b>\n",
    "\n",
    "\n",
    "### 1. Optik Zeichnung\n",
    "\n",
    "Ein kleines Objekt ist 20cm von der ersten Linse eines dreilinsigen Systems entfernt, das die Bildbrennweiten 10cm, 15cm und 20cm aufweist. Der Abstand zwischen den ersten beiden Linsen ist 30cm, der zwischen den letzten beiden 20cm. Berechnen Sie die endgültige Bildlage relativ zur Position der letzten Linse sowie den Abbildungsmaßstab, wenn alle drei Linsen Positivlinsen sind. Zeichnen Sie ein Strahlendiagramm. \n",
    "\n",
    "### 2. Raytracing\n",
    "\n",
    "Entwerfen Sie ein optischesx System, das eine Vergrößerung von $\\beta=-2$ hat bei einem Objektabstand von 5cm. Nach der Berechung nutzen Sie das [Strahlverfolgungsprogramm](https://ricktu288.github.io/ray-optics/simulator/) zur Darstellung des Strahlenganges. An welcher Stelle ist es angebracht eine Blende einzubauen?\n",
    "\n",
    "### 3. Systemmatrix\n",
    "\n",
    "Bestimmen Sie die Systemmatrix für eine dicke Linse mit den folgenden Parametern: $r_1 = 45 \\,$cm, $r_2 = −30\\,$cm, $d = 5\\,$cm, $n_L = 1,6$, $n=n′ =1$.\n",
    "\n",
    "\n",
    "### 4. Bestimmung der Brennweite von dicken Linsen mittels eines Programms\n",
    "\n",
    "a) Suche Sie sich eine weitere positive Linse aus dem Thorlabs Katalog aus und bestimmen \n",
    "Sie mit dem vorgestellten Programm, die Brennweite.\n",
    "\n",
    "b) Können Sie auch die bildseitige Brennweite einer negativen Linse bestimmen? Tip, sie müssen dann eine negative Brennweiten finden. Der Anfangswert der fsolve Routine benötigt  auch einen negativen Wert.\n"
   ]
  }
 ],
 "metadata": {
  "kernelspec": {
   "display_name": "Python 3 (ipykernel)",
   "language": "python",
   "name": "python3"
  },
  "language_info": {
   "codemirror_mode": {
    "name": "ipython",
    "version": 3
   },
   "file_extension": ".py",
   "mimetype": "text/x-python",
   "name": "python",
   "nbconvert_exporter": "python",
   "pygments_lexer": "ipython3",
   "version": "3.9.12"
  }
 },
 "nbformat": 4,
 "nbformat_minor": 2
}

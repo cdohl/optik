{
 "cells": [
  {
   "cell_type": "markdown",
   "metadata": {},
   "source": [
    "# Optik Vorlesung (Claus-Dieter Ohl)\n",
    "\n",
    "## Tutorium 4 für den 13.1.2023\n",
    "\n",
    "\n",
    "### 1. Beugungsbild im Fernfeld\n",
    "\n",
    "Berechnen Sie das Beugungsbild im Fernfeld von zwei Punktquellen\n",
    "\n",
    "$$E(x,y)=E_0\\delta(y)[\\delta(x-x_0)+\\delta(x+x_0)]$$\n",
    "\n",
    "Plotten Sie $|\\cal{F}|^2(\\nu_x,\\nu_y)$ und die Intensität $I(\\nu_x,\\nu_y=0)$. Wie groß ist der Abstand $\\Delta\\nu_x$ zwischen zwei Maxima?\n",
    "\n",
    "\n",
    "### 2. Umwandlung Rasterbild in ein Graustufenbild\n",
    "\n",
    "Sie können eine zweimalie Fourtransformation mit 2 Linsen im Abstand von $2f$ ausführen. Das Ergebnis ist fast das Ursprungsbild, nur sind $x$ und $y$ durch $-x$ und $-y$ vertauscht.\n",
    "\n",
    "Wenn Sie in der Fourierebene einen Teil des Spektrums ausblenden (filtern), ändert sich das Ergebnis. Diesen Vorgang nennt man Fourierfilterung, genauer, kohärente optische Fourierfilterung. Wir können das auch mit einem Rechner machen, der zweimal die Fourierfilterung durchführt. Schauen Sie sich dazu die Programme unter [```Fourier Filtering.ipynb```](Fourier%20Filtering.ipynb) an und spielen damit.\n",
    "\n",
    "Nehmen Sie nun ein Bild mit hoher Auflösung aus der Zeitung auf, so dass die Rasterung (\"Dithering\") sichtbar ist (wenn unklar bitte auf Wikipedia nachschauen). Wenden Sie nun einen geeigneten Fourierfilter an, der das Bild in ein Graustufenbild überführt. Beschreiben Sie das Programm und die Wirkungsweise. Sie können dazu das Notebook [```Fourier Filtering.ipynb```](Fourier%20Filtering.ipynb) als Vorlage benutzen.\n",
    "\n",
    "\n",
    "### 3. Fouriertransformation einer Linse\n",
    "\n",
    "In der Vorlesung wurde gezeigt, dass die Abbildungseigenschaften einer Linse einer Fouriertransformation entsprechen. Dazu haben wir gezeigt, dass die $u,v$ Koordinaten der Abbildungsgleichung für Ebene Wellen unter Winkeln $\\alpha$ und $\\beta$ sind. Wir können das auch über die Fresnel Näherung berechnen:\n",
    "\n",
    "a) Beschreiben Sie die Linse als ein Phasenobjekt mit Brechungsindex $n$ und Krümmungsradien $r_1$ und $r_2$ am Ort $z=0$. Die $z$-Achse ist die optische Achse. Berechnen Sie die Linse als Phasenfunktion $\\tau(x,y)$. Es ist hilfreich eine Koordinate $\\rho=\\sqrt{x^2+y^2}$ einzuführen.\n",
    "\n",
    "b) Zeigen Sie nun mit Hilfe der Fresneläherung, dass eine Eingangsfeldverteilung mit $E_0(x,y)\\,\\tau(x,y)$ im hinteren Brennpunkt der Linse bist auf eine positionsabhängige Phase die einer Fouriertranformation von $E_0(x,y)$ entspricht.\n"
   ]
  }
 ],
 "metadata": {
  "kernelspec": {
   "display_name": "Python 3 (ipykernel)",
   "language": "python",
   "name": "python3"
  },
  "language_info": {
   "codemirror_mode": {
    "name": "ipython",
    "version": 3
   },
   "file_extension": ".py",
   "mimetype": "text/x-python",
   "name": "python",
   "nbconvert_exporter": "python",
   "pygments_lexer": "ipython3",
   "version": "3.9.12"
  }
 },
 "nbformat": 4,
 "nbformat_minor": 2
}

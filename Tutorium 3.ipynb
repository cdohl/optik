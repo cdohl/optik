{
 "cells": [
  {
   "cell_type": "markdown",
   "metadata": {},
   "source": [
    "# Optik Vorlesung (Claus-Dieter Ohl)\n",
    "### Abgabe 2. Dezember 2020 vor der Übung\n",
    "\n",
    "## Tutorium 3\n",
    "\n",
    "### 1. Intereferenzmuster zweier \"schräger\" Wellen\n",
    "\n",
    "Berechnen Sie das Interferenzmuster zweier ebenen Wellen, die unter einen Winkel $2\\,\\Theta$ zueinander laufen und die Wellenvektoren $\\vec{k_1}$ und $\\vec{k_2}$ haben. Geben Sie das Intensitätsmuster als Funktion von zwei zueinander senkrechten Wellenvektoren $\\vec{k_\\parallel}$ und $\\vec{k_\\perp}$. Überprüfen Sie ihr Ergebnis, indem Sie die Grenzfälle $\\vec{k_1}\\parallel\\vec{k_2}$ und $\\vec{k_1}\\perp\\vec{k_2}$ berechnen und auf Plausibilität prüfen.\n",
    "\n",
    "### 2.  Laser Doppler Anemometrie (LDA)\n",
    "\n",
    "Das Inteferenzmuster aus Aufgabe 1 wird benutzt, um eine \"virtuelles\" Gitter in einem Gas oder einer Flüssigkeit zu erzeugen. Partikel, die sich in dem Fluid durch das Intereferenzmuster bewegen streuen das Licht. Skizzieren Sie den Durchgang eines kleinen Partikels und das zu erwartende Intensitätssignal an einem Detektor. Finden Sie einen Zusammenhang zwischen der Partikelgeschwindikeit $\\vec{v_p}$ und der Frequenz des Lichtsignals. Warum kann man nur den Betrag einer Geschwindigkeitskomponente bestimmen?\n",
    "Finden Sie heraus, wie dieses Problem der unbestimmten Richtung in LDAs gelöst wurde.\n",
    "\n",
    "### 3. Interferenzmuster auf einem Ölfilm\n",
    "\n",
    "Wir prämieren das schönste Intereferenzmuster eines Ölfilms. Spielen Sie mit der Oberfläche, Einfallswinkel, Art und Größe der Lichtquelle.\n",
    "\n"
   ]
  }
 ],
 "metadata": {
  "kernelspec": {
   "display_name": "Python [conda env:anaconda2]",
   "language": "python",
   "name": "conda-env-anaconda2-py"
  },
  "language_info": {
   "codemirror_mode": {
    "name": "ipython",
    "version": 2
   },
   "file_extension": ".py",
   "mimetype": "text/x-python",
   "name": "python",
   "nbconvert_exporter": "python",
   "pygments_lexer": "ipython2",
   "version": "2.7.14"
  }
 },
 "nbformat": 4,
 "nbformat_minor": 2
}

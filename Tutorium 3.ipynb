{
 "cells": [
  {
   "cell_type": "markdown",
   "metadata": {},
   "source": [
    "# Optik Vorlesung (Claus-Dieter Ohl/Fabian Reuter)\n",
    "\n",
    "## Tutorium 3\n",
    "\n",
    "### 1. Bauen Sie eine Lochkamera\n",
    "\n",
    "Die Funktionsweise einer Lochkamera wurde in der Vorlesung besprochen. Aus Erfahrung sollte das Loch sehr klein und rund sein. Es kann beispielsweise einen Durchmesser von $d=0.5\\,$mm haben. Die Bildweite sollte $s'=20-25\\,$cm betragen. Runde Löcher können Sie in einer Aluminiumfolie mit einer Nadel machen. Als Beobachtungsfeld eignet sich Transparentpapier oder auch einfach Papier mit einem dünnen Fettfilm. \n",
    "\n",
    "### 2. Sytemmatrix für einen sphärischen Spiegel\n",
    "\n",
    "Leiten Sie die Strahlengleichung für die Reflexion an einem ebenen und dann für einen sphärisch gekrümmten Spiegel mit Krümmungsradius $r$ in paraxialer Näherung her. Bestimmen Sie deren Systemmatrizen. Hier bietet es sich an den Strahl aufzufalten, d.h. die reflektierten Strahlen laufen in positive $z$ Richtung.\n",
    "\n",
    "Welche Form sollte der Spiegel haben, dass keine sphärische Aberration auftritt?\n",
    "\n"
   ]
  }
 ],
 "metadata": {
  "kernelspec": {
   "display_name": "Python [conda env:mypython3]",
   "language": "python",
   "name": "conda-env-mypython3-py"
  },
  "language_info": {
   "codemirror_mode": {
    "name": "ipython",
    "version": 3
   },
   "file_extension": ".py",
   "mimetype": "text/x-python",
   "name": "python",
   "nbconvert_exporter": "python",
   "pygments_lexer": "ipython3",
   "version": "3.7.3"
  }
 },
 "nbformat": 4,
 "nbformat_minor": 2
}

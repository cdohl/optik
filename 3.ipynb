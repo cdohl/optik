{
 "cells": [
  {
   "cell_type": "markdown",
   "metadata": {},
   "source": [
    "## 3. Das Auge\n",
    "\n",
    "### 3.1. Aufbau des Auges\n",
    "\n",
    "<img src=\"figures/aufbau-auge.jpg\" alt=\"aufbau-auge.jpg\" style=\"width: 500px;\"/>\n",
    "\n",
    "* Augapfel hat fast kugelförmige Gestalt mit Durchmesser $\\approx 22\\,$mm.\n",
    "* Grundlegende Bestandteile sehen Sie in der Abbildung.\n",
    "* Licht fällt durch die Hornhaut (Cornea) in das Auge ein. Dicke $\\approx 0.6\\,$mm mit $n=1.376$ und übernimmt damit 73\\% der Brechkraft des Auges.\n",
    "* Vordere Augenkammer mit $n=1.336$ ähnlich von Wasser\n",
    "* Dahinter ist die Iris die durch Muskeln die Pupillengröße zwischen $2\\,$mm und $8\\,$mm einstellen kann.\n",
    "* Das Licht wird ein zweites Mall in der Augenlinse gebrochen. Deren Form wird von einem Ringmuskel kontrolliert. Die Brechzahl der Linse liegt zwischen $1.38\\le n\\le 1.41$. Im entspannten Zustand ist die Linse am flachsten. Wenn der Muskel sich zusammenzieht wird die Linse $0.5\\,$mm dicker und der Krümmungsradius der vorderen Oberfläche nimmt von $10\\,$mm zu $5.3\\,$mm ab. Die Brechkraft nimmt um $14\\,$dpt zu.\n",
    "* Der Glaskörper ist eine transparente, gallertartige Substanz mit einer Brechzahl von $n=1.336$.\n",
    "* Dann fällt das Licht auf die hintere Wand des Auges, der Netzhaut (Retina).\n",
    "* Retina besteht aus Photorezeptoren.\n",
    "  * Zäpfchen ca. 10 Millionen: helles Licht, Farben, im Zentrum (gelber Fleck, Durchmesser $200\\,\\mu$m) angeordnet.\n",
    "  * Stäbchen ca. 100 Millionen: empfindlich aber nicht empfindlich für Farben, im Aussenbereich angeordnet. \n",
    "* Sehnerv ist mit der Retina am blinden Fleck verbunden.\n"
   ]
  },
  {
   "cell_type": "markdown",
   "metadata": {},
   "source": [
    "### 3.2 Augenmodell\n",
    "\n",
    "Die optischen Oberflächen\n",
    "\n",
    "1. Grenzfläche Luft-Hornhaut (größte Brennkraft)\n",
    "2. Grenzfläche Voderkammerflüssigkeit-Linse\n",
    "3. Grenzfläche Linse-Glaskörper\n",
    "\n",
    "Das Auge kann als dünne Positivlinse mit einer Bildbrennweite zwischen $16\\,$mm und $14\\,$mm in Luft betrachtet werden.\n",
    "\n",
    "\n",
    "* Das Auge akkomdiert um nahe oder weit entfernte Objekte abzubilden.\n",
    "* Das Auge adaptiert um Lichtsignale unterschiedlicher Helligkeit zu verarbeiten.\n",
    "\n",
    "#### 3.2.1 Akkomodation\n",
    "\n",
    "Nahpunkt \n",
    "\n",
    "\n",
    "\n",
    "#### Auge als optisches System\n",
    "\n",
    "<img src=\"figures/3.2_1.png\" alt=\"3.2_1.png\" style=\"width: 500px;\"/>\n"
   ]
  },
  {
   "cell_type": "code",
   "execution_count": null,
   "metadata": {},
   "outputs": [],
   "source": []
  }
 ],
 "metadata": {
  "kernelspec": {
   "display_name": "Python 2",
   "language": "python",
   "name": "python2"
  },
  "language_info": {
   "codemirror_mode": {
    "name": "ipython",
    "version": 2
   },
   "file_extension": ".py",
   "mimetype": "text/x-python",
   "name": "python",
   "nbconvert_exporter": "python",
   "pygments_lexer": "ipython2",
   "version": "2.7.14"
  }
 },
 "nbformat": 4,
 "nbformat_minor": 2
}

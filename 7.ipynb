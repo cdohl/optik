{
 "cells": [
  {
   "cell_type": "markdown",
   "metadata": {},
   "source": [
    "# 7. Interferometrie\n",
    "\n",
    "Das [Michelson-Morley-Experiment](https://de.wikipedia.org/wiki/Michelson-Morley-Experiment) hat die moderne Physik mit begründet. Michelson hat zur Messung der [Äthergeschwindigkeit](https://link.springer.com/article/10.1007%2FBF01528662) ein Aperatur aufgebaut, die es ermoöglicht die Lichtgeschwindigkeit in verschiedene Richtungen zu messen. Diesr Michelson Interferometer wird seitdem für Präzissionsmessungen genutzt. Der letzte große Erfolg des Michelson Interferometer war die Detektion von Gravitationswellen. \n",
    "\n",
    "Der Aufbau ist unten skizziert: Ein Strahl (1) von der Lichtquelle wird an der Obereite eines halbdurchlässigen Spiegels $ST$ reflektiert, ein Strahl wird um $90^\\circ$ umgelenkt (2) und ein zweiter Strahl (3) geht durch den halbdurchlâssigen Spiegel geradeaus. Die Amplitde der beiden Strahlen ist ungefähr gleich groß.\n",
    "\n",
    "Die beiden Strahlen (2) und (3) werden zurückgeworfen, Die Hälfte des Strahls (2) läuft durch den halbdurchlässigen Spiegel durch, und auch die Hälfte des Strahls (3) wird reflekiert. Beide Teilstrahlen ergebn den Strahl (4). Beide Strahlen intereferieren. \n",
    "\n",
    "In Experiment wird häufig nicht ein dünner Strahl genommen, sondern ein mit einer negativen Linse aufgeweiter Laserstahl.  \n",
    "\n",
    "\n",
    "<img src=\"figures/7.1_1.png\" alt=\"7.1_1.jpg\" style=\"width: 450px;\"/>\n"
   ]
  },
  {
   "cell_type": "code",
   "execution_count": null,
   "metadata": {},
   "outputs": [],
   "source": []
  }
 ],
 "metadata": {
  "kernelspec": {
   "display_name": "Python 3",
   "language": "python",
   "name": "python3"
  },
  "language_info": {
   "codemirror_mode": {
    "name": "ipython",
    "version": 3
   },
   "file_extension": ".py",
   "mimetype": "text/x-python",
   "name": "python",
   "nbconvert_exporter": "python",
   "pygments_lexer": "ipython3",
   "version": "3.7.3"
  }
 },
 "nbformat": 4,
 "nbformat_minor": 2
}

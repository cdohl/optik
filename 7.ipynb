{
 "cells": [
  {
   "cell_type": "markdown",
   "metadata": {},
   "source": [
    "# 7. Interferometrie\n",
    "\n",
    "Das [Michelson-Morley-Experiment](https://de.wikipedia.org/wiki/Michelson-Morley-Experiment) hat die moderne Physik mit begründet. Michelson hat zur Messung der [Äthergeschwindigkeit](https://link.springer.com/article/10.1007%2FBF01528662) ein Aperatur aufgebaut, die es ermoöglicht die Lichtgeschwindigkeit in verschiedene Richtungen zu messen. Diesr Michelson Interferometer wird seitdem für Präzissionsmessungen genutzt. Der letzte große Erfolg des Michelson Interferometer war die Detektion von Gravitationswellen. \n",
    "\n",
    "Der Aufbau ist unten skizziert: Ein Strahl (1) von der Lichtquelle wird an der Obereite eines halbdurchlässigen Spiegels $ST$ reflektiert, ein Strahl wird um $90^\\circ$ umgelenkt (2) und ein zweiter Strahl (3) geht durch den halbdurchlâssigen Spiegel geradeaus. Die Amplitde der beiden Strahlen ist ungefähr gleich groß.\n",
    "\n",
    "Die beiden Strahlen (2) und (3) werden mit den Spiegelns $S_2$ und $S_1$ zurückgeworfen, Die Hälfte des Strahls (2) läuft durch den halbdurchlässigen Spiegel durch, und auch die Hälfte des Strahls (3) wird reflekiert. Beide Teilstrahlen ergebn den Strahl (4) und intereferieren auf dem Detektor.\n",
    "\n",
    "In Experiment wird häufig nicht ein dünner Strahl genommen, sondern ein mit einer negativen Linse aufgeweiteter Laserstrahl.  \n",
    "\n",
    "<img src=\"figures/7.1_1.png\" alt=\"7.1_1.jpg\" style=\"width: 450px;\"/>\n",
    "\n",
    "\n",
    "Obwohl auf den ersten Blick ähnlich, gibt es zwei wichtige Unterschied zwischen den Strahlen 2 und 3. Strahl 2 wird an der Vorderseite des Strahlteilers einmal mit Phasensprung $\\lambda/2$ reflektiert und läuft nach Reflektion durch den Strahlteiler. Strahl 2 läuft dreimal durch den Strahlteiler und wird ohne Phasensprung am Strahlteiler reflektiert. Beide Strahlen (2 und 3) erfahren einen zweiten Phasensprung an den Spiegeln $S_2$ und $S_1$. Zur Kompensation des längeren optischen Weges von Strahl 3 kann eine Glasplatte in den Strahlengang 2 eingebaut werden. Der zusätzliche Phasensprung von Strahl 2 muss aber dennoch berücksichtigt werden um auf den Gangunterschied $\\Delta$ zu kommen:\n",
    "\n",
    "$$\\Delta=\\Delta_w+\\frac{\\lambda}{2}=2\\,d+ \\frac{\\lambda}{2}\\quad .$$\n",
    "\n",
    "Die Strecke $d$ ist die Verschiebung des Spiegels senkrecht zur optischen Achse/Strahles.\n",
    "\n",
    "Wenn beide Strahlen 1 und 2 gleich hell sind nehmen wir unsere Gleichung für das Interferenzmuster als Funktion des Phasendifferenz $\\delta$:\n",
    "\n",
    "$$I=4\\,I_0\\cos^2\\left(\\frac{\\delta}{2}\\right)\\quad.$$\n",
    "\n",
    "Der Zusammenhang zwischen Phasendifferenz und Gangunterschied ist:\n",
    "\n",
    "$$\\delta=k\\,\\Delta=2\\pi\\frac{\\Delta}{\\lambda}$$\n",
    "\n",
    "\n",
    "Für dunkle Streifen ist $\\Delta=2\\,d+\\lambda/2=(2m+1)\\lambda/2$ oder \n",
    "\n",
    "$$2\\,d=m\\,\\lambda$$\n",
    "\n",
    "Eine Verschiebung eines Spiegels von $d=\\lambda/2$ erzeugt einen dunkel-hell-dunkel Übergang auf dem Streifensystem. \n",
    "\n",
    "Wie bereits oben angedeutet, wird der Laserstrahl typischerweise aufgeweitet. Dadurch entsteht ein Ringsystem. Hier könnte man den Detektor auf das Zentrum ausrichten und die Anzahl der Übergänge von dunkel auf dunkel messen. Jeder solche Übergang entspricht einer Weglängenverschiebung $d=\\lambda/2$. "
   ]
  },
  {
   "cell_type": "code",
   "execution_count": null,
   "metadata": {},
   "outputs": [],
   "source": []
  }
 ],
 "metadata": {
  "kernelspec": {
   "display_name": "Python 3",
   "language": "python",
   "name": "python3"
  },
  "language_info": {
   "codemirror_mode": {
    "name": "ipython",
    "version": 3
   },
   "file_extension": ".py",
   "mimetype": "text/x-python",
   "name": "python",
   "nbconvert_exporter": "python",
   "pygments_lexer": "ipython3",
   "version": "3.7.3"
  }
 },
 "nbformat": 4,
 "nbformat_minor": 2
}

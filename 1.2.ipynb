{
 "cells": [
  {
   "cell_type": "markdown",
   "metadata": {},
   "source": [
    "## 1.2 Dünne Linsen\n",
    "\n",
    "Die paraxiale Näherung beschreibt <i> achsnahe</i> Strahlen, d.h. Strahlen unter kleinem Winkel:\n",
    "\n",
    "$$\\sin \\epsilon = \\epsilon -\\frac{\\epsilon^2}{3!} + \\frac{\\epsilon^5}{5!} - \\, \\dots\n",
    "$$\n",
    "\n",
    "und\n",
    "\n",
    "$$\\cos \\epsilon = 1 - \\frac{\\epsilon^2}{2!} + \\frac{\\epsilon^4}{4!} - \\, \\dots\\quad .\n",
    "$$\n",
    "\n",
    "Bricht man die Reihenentwicklung nach dem ersten Glied ab, erhalten wir\n",
    "\n",
    "$$\\sin \\epsilon \\approx \\epsilon , \\quad \\cos \\epsilon \\approx 1 \\quad \\mathrm{und} \\quad \\tan \\epsilon =\\frac{\\sin \\epsilon}{\\cos \\epsilon}\\approx \\epsilon \\quad .$$\n",
    "\n",
    "\n",
    "Damit vereinfacht sich das Brechnungsgesetz zum paraxialen Brechnungsgesetz\n",
    "\n",
    "$$ n\\,\\epsilon = n'\\,\\epsilon'\\tag{1.2.1}$$\n",
    "\n",
    "Diese benutzen wir nun um in paraxialer Nâherung die Brechung an einer Kugeloberfläche zu beschreiben.\n",
    "\n",
    "<b>Brechung an einer Kugelfläche</b>\n",
    "<img src=\"figures/1.2_1.png\" alt=\"1.2_1.png\" style=\"width: 600px;\"/>\n",
    "\n",
    "\n"
   ]
  },
  {
   "cell_type": "code",
   "execution_count": null,
   "metadata": {},
   "outputs": [],
   "source": []
  }
 ],
 "metadata": {
  "kernelspec": {
   "display_name": "Python [default]",
   "language": "python",
   "name": "python2"
  },
  "language_info": {
   "codemirror_mode": {
    "name": "ipython",
    "version": 2
   },
   "file_extension": ".py",
   "mimetype": "text/x-python",
   "name": "python",
   "nbconvert_exporter": "python",
   "pygments_lexer": "ipython2",
   "version": "2.7.14"
  }
 },
 "nbformat": 4,
 "nbformat_minor": 2
}

{
 "cells": [
  {
   "cell_type": "markdown",
   "metadata": {},
   "source": [
    "# Optik Vorlesung (Claus-Dieter Ohl/Fabian Reuter)\n",
    "\n",
    "## Tutorium 5\n",
    "\n",
    "Bitte geben Sie die Lösungen zu den 2 Aufgaben bis zum Ende der Vorlesung am 10.1.2020 ab.\n",
    "\n",
    "### 1. Reflektanz eines Fabry-Perots\n",
    "\n",
    "Berechnen sie die komplexe Reflektivität $R$ eines Fabry-Perot Interferometers analog zur Herleitung der transmission $t$ in der Vorlesung (Summe über Teilwellen). Bestätigen Sie, dass die Energie erhalten wird, d.h. $|R|^2 + |T|^2 = 1$. *Hinweis:* Die Phase der Welle, die am ersten Spiegel zurück reflektiert wird, wird im Vergleich zu allen anderen Teilwellen um $\\pi$ verschoben. \n",
    "\n",
    "\n",
    "### 2. Digitales Hologram\n",
    "\n",
    "Schreiben Sie ein Programm um ein digitales Hologram von zwei Punktquelle in einem wählbaren Abstand zu berechnen.\n",
    "\n"
   ]
  }
 ],
 "metadata": {
  "kernelspec": {
   "display_name": "Python 3",
   "language": "python",
   "name": "python3"
  },
  "language_info": {
   "codemirror_mode": {
    "name": "ipython",
    "version": 3
   },
   "file_extension": ".py",
   "mimetype": "text/x-python",
   "name": "python",
   "nbconvert_exporter": "python",
   "pygments_lexer": "ipython3",
   "version": "3.7.3"
  }
 },
 "nbformat": 4,
 "nbformat_minor": 2
}

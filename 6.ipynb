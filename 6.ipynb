{
 "cells": [
  {
   "cell_type": "markdown",
   "metadata": {},
   "source": [
    "## 6. Wellengleichung\n",
    "\n",
    "Gaußsche Gesetz für elektrische Felder\n",
    "$$\\oint \\vec{E} \\cdot \\mathrm{d}\\vec{A} = \\frac{Q_{umg}}{\\epsilon_0}$$\n",
    "Gaußsche Gesetz für magnetische Felder\n",
    "$$\\oint \\vec{B} \\cdot \\mathrm{d}\\vec{A} = 0$$\n",
    "Faraday'sche Induktionsgesetz\n",
    "$$\\oint \\vec{E}\\cdot\\mathrm{d}\\vec{s}= - \\frac{\\mathrm{d}\\Phi_B}{\\mathrm{d}t}$$\n",
    "Erweitertes Durchflutungsgesetz  \n",
    "  $$\\oint\\vec{B}\\cdot\\mathrm{d}\\vec{s} = \\mu_0 \\, I_{umf}+\\mu_0\\epsilon_0\\frac{\\mathrm{d}\\Phi_E}{\\mathrm{d}t}$$\n",
    "  \n",
    "  \n"
   ]
  },
  {
   "cell_type": "code",
   "execution_count": null,
   "metadata": {},
   "outputs": [],
   "source": []
  }
 ],
 "metadata": {
  "kernelspec": {
   "display_name": "Python 3",
   "language": "python",
   "name": "python3"
  },
  "language_info": {
   "codemirror_mode": {
    "name": "ipython",
    "version": 3
   },
   "file_extension": ".py",
   "mimetype": "text/x-python",
   "name": "python",
   "nbconvert_exporter": "python",
   "pygments_lexer": "ipython3",
   "version": "3.7.3"
  }
 },
 "nbformat": 4,
 "nbformat_minor": 2
}
